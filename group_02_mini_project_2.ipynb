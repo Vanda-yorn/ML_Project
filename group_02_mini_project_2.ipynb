{
  "cells": [
    {
      "cell_type": "code",
      "execution_count": 1,
      "metadata": {
        "colab": {
          "base_uri": "https://localhost:8080/"
        },
        "id": "S4T-10Q4C9P2",
        "outputId": "e08baf18-dc43-4b22-c099-7898eb64de74"
      },
      "outputs": [
        {
          "name": "stderr",
          "output_type": "stream",
          "text": [
            "[nltk_data] Downloading package punkt to /Users/yornvanda/nltk_data...\n",
            "[nltk_data]   Unzipping tokenizers/punkt.zip.\n"
          ]
        }
      ],
      "source": [
        "import nltk\n",
        "from nltk import word_tokenize\n",
        "#nltk.download('punkt')\n",
        "import math\n",
        "import numpy as np\n",
        "import csv\n",
        "import random"
      ]
    },
    {
      "cell_type": "code",
      "execution_count": 23,
      "metadata": {
        "id": "1hDU-rS4D17j"
      },
      "outputs": [],
      "source": [
        "# Read file\n",
        "def readfile(fn):\n",
        "  f = open(fn, 'r', encoding='utf-8')\n",
        "  lines = [line for line in f.readlines()]\n",
        "  f.close()\n",
        "  return lines\n",
        "\n",
        "# Read word from file\n",
        "def readword(fn):\n",
        "  f = open(fn, 'r', encoding='ISO-8859-1')\n",
        "  lines = [line for line in f.readlines()]\n",
        "  f.close()\n",
        "  return lines"
      ]
    },
    {
      "cell_type": "code",
      "execution_count": null,
      "metadata": {},
      "outputs": [],
      "source": [
        "readfile('positive-words.txt')"
      ]
    },
    {
      "cell_type": "code",
      "execution_count": 3,
      "metadata": {
        "id": "N63HcFuGEClp"
      },
      "outputs": [],
      "source": [
        "pos_reviews = readfile('positive-reviews.txt')\n",
        "pos_words = readword('positive-words.txt')\n",
        "neg_reviews = readfile('negative-reviews.txt')\n",
        "neg_words = readword('negative-words.txt')"
      ]
    },
    {
      "cell_type": "code",
      "execution_count": null,
      "metadata": {
        "id": "QP6AthQ4Eg4a"
      },
      "outputs": [],
      "source": [
        "pos_reviews = [w[:-1] for w in pos_reviews]\n",
        "print(pos_reviews)\n",
        "\n",
        "neg_reviews = [w[:-1] for w in neg_reviews]\n",
        "print(neg_reviews)\n",
        "\n",
        "for text in range(len(pos_reviews)):\n",
        "  pos_reviews[text] = pos_reviews[text].lower()\n",
        "print(pos_reviews)\n",
        "\n",
        "for text in range(len(neg_reviews)):\n",
        "  neg_reviews[text] = neg_reviews[text].lower()\n",
        "print(neg_reviews)\n",
        "\n",
        "pos_tokenized = [word_tokenize(i) for i in pos_reviews]\n",
        "neg_tokenized = [word_tokenize(i) for i in neg_reviews]"
      ]
    },
    {
      "cell_type": "code",
      "execution_count": null,
      "metadata": {
        "colab": {
          "base_uri": "https://localhost:8080/"
        },
        "id": "ULCc5l4VE5jB",
        "outputId": "6bfc8804-ebe5-456e-bd76-5224a36fa2ec"
      },
      "outputs": [],
      "source": [
        "def feature_extract(tokeniz_review, positive_word, negative_word, label):\n",
        "  _y = []\n",
        "  _x1 = []\n",
        "  _x2 = []\n",
        "  _x3 = []\n",
        "  _x4 = []\n",
        "  _x5 = []\n",
        "  _x6 = []\n",
        "\n",
        "  if label == 'positive':\n",
        "    y = 1\n",
        "  else:\n",
        "    y = 0\n",
        "  for text in tokeniz_review:\n",
        "    count_positive = 0\n",
        "    count_negative = 0\n",
        "    no = 0\n",
        "    mark = 0\n",
        "    pronoun =['i', 'me', 'my', 'you', 'your']\n",
        "    count_pronoun = 0\n",
        "    for word in text:\n",
        "      if word in negative_word:\n",
        "        count_negative += 1\n",
        "      if word in positive_word:\n",
        "        count_positive += 1\n",
        "      if word == 'no':\n",
        "        no = 1\n",
        "      if word == '!':\n",
        "        mark = 1\n",
        "      if word in pronoun:\n",
        "        count_pronoun += 1\n",
        "\n",
        "    _y.append(y)\n",
        "    _x1.append(count_positive)\n",
        "    _x2.append(count_negative)\n",
        "    _x3.append(no)\n",
        "    _x4.append(count_pronoun)\n",
        "    _x5.append(mark)\n",
        "\n",
        "    if len(text) > 1:\n",
        "      lenght = len(text)\n",
        "      review_lenght = math.log(lenght)\n",
        "    else:\n",
        "      review_lenght = len(text)\n",
        "    _x6.append(review_lenght)\n",
        "  return _y, _x1, _x2, _x3, _x4, _x5, _x6\n",
        "\n",
        "yp, x1p, x2p, x3p, x4p, x5p, x6p = feature_extract(pos_tokenized, pos_words, neg_words, 'positive')\n",
        "print(len(x1p), len(yp))\n",
        "\n",
        "print(yp[0])\n",
        "\n",
        "yn, x1n, x2n, x3n, x4n, x5n, x6n = feature_extract(neg_tokenized, pos_words, neg_words, 'negative')\n",
        "print(len(x1n), len(yn))\n",
        "\n",
        "print(yn[0])"
      ]
    },
    {
      "cell_type": "code",
      "execution_count": 6,
      "metadata": {
        "colab": {
          "base_uri": "https://localhost:8080/"
        },
        "id": "F4n7LTv7Fro5",
        "outputId": "74f3d4e9-979f-4fb8-c898-760f394ad09e"
      },
      "outputs": [
        {
          "name": "stdout",
          "output_type": "stream",
          "text": [
            "45868\n"
          ]
        }
      ],
      "source": [
        "#Combine feature extraction together\n",
        "y = yp + yn\n",
        "x1 = x1p + x1n\n",
        "x2 = x2p + x2n\n",
        "x3 = x3p + x3n\n",
        "x4 = x4p + x4n\n",
        "x5 = x5p + x5n\n",
        "x6 = x6p + x6n\n",
        "print(len(y))"
      ]
    },
    {
      "cell_type": "code",
      "execution_count": null,
      "metadata": {
        "id": "caKFmHjuF3zA"
      },
      "outputs": [],
      "source": [
        "#field name\n",
        "fn= ['x1', 'x2', 'x3', 'x4', 'x5', 'x6', 'y']\n",
        "\n",
        "rows = []\n",
        "for data in range(len(y)):\n",
        "  rows.append([x1[data], x2[data], x3[data], x4[data], x5[data], x6[data], y[data]])\n",
        "# random.shuffle(rows)\n",
        "print(rows)\n",
        "\n",
        "# write to csv file\n",
        "#with open('review.csv', 'w') as f:\n",
        "  #writer = csv.writer(f)\n",
        "  #writer.writerow(fn)\n",
        " # writer.writerows(rows)"
      ]
    },
    {
      "cell_type": "code",
      "execution_count": null,
      "metadata": {
        "id": "rxfDDMO1GO7Y"
      },
      "outputs": [],
      "source": [
        "def read_from_csv(path):\n",
        "  f = open(path, 'r')\n",
        "  lines = f.readlines()\n",
        "  f.close()\n",
        "  lines.pop(0)\n",
        "  \n",
        "  x1 = []\n",
        "  x2 = []\n",
        "  x3 = []\n",
        "  x4 = []\n",
        "  x5 = []\n",
        "  x6 = []\n",
        "  y = []\n",
        "\n",
        "\n",
        "  for data in lines:\n",
        "    _x1, _x2, _x3, _x4, _x5, _x6, _y = data.split(',')\n",
        "    x1.append(float(_x1))\n",
        "    x2.append(float(_x2))\n",
        "    x3.append(float(_x3))\n",
        "    x4.append(float(_x4))\n",
        "    x5.append(float(_x5))\n",
        "    x6.append(float(_x6))\n",
        "    y.append(float(_y))\n",
        "\n",
        "  return x1, x2, x3, x4, x5 ,x6, y\n",
        "\n",
        "path = 'review.csv'\n",
        "x1, x2, x3, x4, x5, x6, y = read_from_csv(path)\n",
        "\n",
        "tmp = list(zip(x1, x2, x3, x4, x5, x6, y))\n",
        "random.shuffle(list(tmp))\n",
        "print(tmp)\n",
        "x1, x2, x3, x4, x5, x6, y = zip(*tmp)\n",
        "x1 = list(x1)\n",
        "x2 = list(x2)\n",
        "x3 = list(x3)\n",
        "x4 = list(x4)\n",
        "x5 = list(x5)\n",
        "x6 = list(x6)\n",
        "y = list(y)\n",
        "\n",
        "x1 = np.array(x1, dtype=np.float)\n",
        "x2 = np.array(x2, dtype=np.float)\n",
        "x3 = np.array(x3, dtype=np.float)\n",
        "x4 = np.array(x4, dtype=np.float)\n",
        "x5 = np.array(x5, dtype=np.float)\n",
        "x6 = np.array(x6, dtype=np.float)\n",
        "y = np.array(y, dtype = np.float)\n",
        "\n",
        "x = np.concatenate((x1.reshape(-1, 1), x2.reshape(-1, 1), x3.reshape(-1, 1), x4.reshape(-1, 1),\n",
        "                    x5.reshape(-1, 1), x6.reshape(-1, 1)), axis=1)"
      ]
    },
    {
      "cell_type": "code",
      "execution_count": 10,
      "metadata": {
        "id": "03KABlWXA6u5"
      },
      "outputs": [],
      "source": [
        "\n",
        "from sklearn.model_selection import train_test_split\n",
        "#training dataset\n",
        "x_train, x_test, y_train, y_test= train_test_split(x, y, test_size= 0.2, random_state=0) "
      ]
    },
    {
      "cell_type": "code",
      "execution_count": 21,
      "metadata": {
        "id": "kgBplGiJFhgR"
      },
      "outputs": [],
      "source": [
        "from sklearn.linear_model import LogisticRegression\n",
        "from sklearn import model_selection, naive_bayes, svm\n",
        "from sklearn.neighbors import KNeighborsClassifier\n",
        "from xgboost.sklearn import XGBClassifier\n",
        "from sklearn import metrics \n",
        "from sklearn.metrics import confusion_matrix\n",
        "from sklearn.metrics import accuracy_score\n",
        "from sklearn.model_selection import train_test_split"
      ]
    },
    {
      "cell_type": "code",
      "execution_count": 13,
      "metadata": {
        "colab": {
          "base_uri": "https://localhost:8080/"
        },
        "id": "fH2zZWGzefQh",
        "outputId": "38c17e52-99fa-4e7b-f3d8-b44cca131291"
      },
      "outputs": [
        {
          "name": "stdout",
          "output_type": "stream",
          "text": [
            "Logistic Regression Accuracy Score ->  60.45345541748419 %\n"
          ]
        }
      ],
      "source": [
        "#Logistic Regression Model\n",
        "\n",
        "model = LogisticRegression()\n",
        "model.fit(x_train, y_train)\n",
        "y_pred = model.predict(x_test)\n",
        "\n",
        "print(\"Logistic Regression Accuracy Score -> \",accuracy_score(y_pred, y_test)*100 ,\"%\")\n"
      ]
    },
    {
      "cell_type": "code",
      "execution_count": 14,
      "metadata": {
        "colab": {
          "base_uri": "https://localhost:8080/"
        },
        "id": "kW52toPk-hlL",
        "outputId": "9f71aaee-8861-4eb9-ead9-60b786c15bad"
      },
      "outputs": [
        {
          "name": "stdout",
          "output_type": "stream",
          "text": [
            "Naive Bayes Accuracy Score -> 55.297580117723996 %\n"
          ]
        }
      ],
      "source": [
        "#NB classifier model\n",
        "\n",
        "model = naive_bayes.GaussianNB()\n",
        "model.fit(x_train, y_train)\n",
        "y_pred = model.predict(x_test)\n",
        "\n",
        "print(\"Naive Bayes Accuracy Score ->\",accuracy_score(y_pred, y_test)*100 ,\"%\")\n"
      ]
    },
    {
      "cell_type": "code",
      "execution_count": 15,
      "metadata": {
        "colab": {
          "base_uri": "https://localhost:8080/"
        },
        "id": "lUHF4-eKBYCR",
        "outputId": "5f1d52b5-b8f4-41e3-8edf-f6e1ea221bf7"
      },
      "outputs": [
        {
          "name": "stdout",
          "output_type": "stream",
          "text": [
            "Support Vector Machine Accuracy Score -> 60.86766950076302 %\n"
          ]
        }
      ],
      "source": [
        "#support vector machine model\n",
        "\n",
        "model = svm.SVC()\n",
        "model.fit(x_train, y_train)\n",
        "y_pred = model.predict(x_test)\n",
        "\n",
        "print(\"Support Vector Machine Accuracy Score ->\",accuracy_score(y_pred, y_test)*100, \"%\")\n"
      ]
    },
    {
      "cell_type": "code",
      "execution_count": 16,
      "metadata": {
        "colab": {
          "base_uri": "https://localhost:8080/"
        },
        "id": "BwtE-9A4Dr0K",
        "outputId": "97d50ce1-32c5-48be-c6be-d350145455aa"
      },
      "outputs": [
        {
          "name": "stdout",
          "output_type": "stream",
          "text": [
            "KNN Accuracy Score -> 55.05777196424678 %\n"
          ]
        }
      ],
      "source": [
        "#KNN model\n",
        "\n",
        "model = KNeighborsClassifier()\n",
        "model.fit(x_train, y_train)\n",
        "y_pred = model.predict(x_test)\n",
        "\n",
        "print(\"KNN Accuracy Score ->\",accuracy_score(y_pred, y_test)*100, \"%\")\n"
      ]
    },
    {
      "cell_type": "code",
      "execution_count": 22,
      "metadata": {
        "colab": {
          "base_uri": "https://localhost:8080/"
        },
        "id": "GazQxavpEdrK",
        "outputId": "24cedf78-9b14-4669-8d56-3d245eb71f74"
      },
      "outputs": [
        {
          "name": "stdout",
          "output_type": "stream",
          "text": [
            "Gradient Boosted Accuracy Score -> 60.638761717898404 %\n"
          ]
        }
      ],
      "source": [
        "#gradient boosted model\n",
        "\n",
        "model = XGBClassifier()\n",
        "model.fit(x_train, y_train)\n",
        "y_pred = model.predict(x_test)\n",
        "\n",
        "print(\"Gradient Boosted Accuracy Score ->\",accuracy_score(y_pred, y_test)*100, \"%\")\n"
      ]
    }
  ],
  "metadata": {
    "colab": {
      "provenance": []
    },
    "kernelspec": {
      "display_name": "base",
      "language": "python",
      "name": "python3"
    },
    "language_info": {
      "codemirror_mode": {
        "name": "ipython",
        "version": 3
      },
      "file_extension": ".py",
      "mimetype": "text/x-python",
      "name": "python",
      "nbconvert_exporter": "python",
      "pygments_lexer": "ipython3",
      "version": "3.9.12"
    },
    "vscode": {
      "interpreter": {
        "hash": "85b2b339c6039b4cc85d2ce7bac341f33893dbad53b0879243aeaa1a9d331183"
      }
    }
  },
  "nbformat": 4,
  "nbformat_minor": 0
}
