{
 "cells": [
  {
   "cell_type": "code",
   "execution_count": 52,
   "id": "dfffee46",
   "metadata": {},
   "outputs": [
    {
     "data": {
      "text/html": [
       "<div>\n",
       "<style scoped>\n",
       "    .dataframe tbody tr th:only-of-type {\n",
       "        vertical-align: middle;\n",
       "    }\n",
       "\n",
       "    .dataframe tbody tr th {\n",
       "        vertical-align: top;\n",
       "    }\n",
       "\n",
       "    .dataframe thead th {\n",
       "        text-align: right;\n",
       "    }\n",
       "</style>\n",
       "<table border=\"1\" class=\"dataframe\">\n",
       "  <thead>\n",
       "    <tr style=\"text-align: right;\">\n",
       "      <th></th>\n",
       "      <th>ID</th>\n",
       "      <th>Warehouse_block</th>\n",
       "      <th>Mode_of_Shipment</th>\n",
       "      <th>Customer_care_calls</th>\n",
       "      <th>Customer_rating</th>\n",
       "      <th>Cost_of_the_Product</th>\n",
       "      <th>Prior_purchases</th>\n",
       "      <th>Product_importance</th>\n",
       "      <th>Gender</th>\n",
       "      <th>Discount_offered</th>\n",
       "      <th>Weight_in_gms</th>\n",
       "      <th>Reached.on.Time_Y.N</th>\n",
       "    </tr>\n",
       "  </thead>\n",
       "  <tbody>\n",
       "    <tr>\n",
       "      <th>0</th>\n",
       "      <td>1</td>\n",
       "      <td>D</td>\n",
       "      <td>Flight</td>\n",
       "      <td>4</td>\n",
       "      <td>2</td>\n",
       "      <td>177</td>\n",
       "      <td>3</td>\n",
       "      <td>low</td>\n",
       "      <td>F</td>\n",
       "      <td>44</td>\n",
       "      <td>1233</td>\n",
       "      <td>1</td>\n",
       "    </tr>\n",
       "    <tr>\n",
       "      <th>1</th>\n",
       "      <td>2</td>\n",
       "      <td>F</td>\n",
       "      <td>Flight</td>\n",
       "      <td>4</td>\n",
       "      <td>5</td>\n",
       "      <td>216</td>\n",
       "      <td>2</td>\n",
       "      <td>low</td>\n",
       "      <td>M</td>\n",
       "      <td>59</td>\n",
       "      <td>3088</td>\n",
       "      <td>1</td>\n",
       "    </tr>\n",
       "    <tr>\n",
       "      <th>2</th>\n",
       "      <td>3</td>\n",
       "      <td>A</td>\n",
       "      <td>Flight</td>\n",
       "      <td>2</td>\n",
       "      <td>2</td>\n",
       "      <td>183</td>\n",
       "      <td>4</td>\n",
       "      <td>low</td>\n",
       "      <td>M</td>\n",
       "      <td>48</td>\n",
       "      <td>3374</td>\n",
       "      <td>1</td>\n",
       "    </tr>\n",
       "    <tr>\n",
       "      <th>3</th>\n",
       "      <td>4</td>\n",
       "      <td>B</td>\n",
       "      <td>Flight</td>\n",
       "      <td>3</td>\n",
       "      <td>3</td>\n",
       "      <td>176</td>\n",
       "      <td>4</td>\n",
       "      <td>medium</td>\n",
       "      <td>M</td>\n",
       "      <td>10</td>\n",
       "      <td>1177</td>\n",
       "      <td>1</td>\n",
       "    </tr>\n",
       "    <tr>\n",
       "      <th>4</th>\n",
       "      <td>5</td>\n",
       "      <td>C</td>\n",
       "      <td>Flight</td>\n",
       "      <td>2</td>\n",
       "      <td>2</td>\n",
       "      <td>184</td>\n",
       "      <td>3</td>\n",
       "      <td>medium</td>\n",
       "      <td>F</td>\n",
       "      <td>46</td>\n",
       "      <td>2484</td>\n",
       "      <td>1</td>\n",
       "    </tr>\n",
       "    <tr>\n",
       "      <th>5</th>\n",
       "      <td>6</td>\n",
       "      <td>F</td>\n",
       "      <td>Flight</td>\n",
       "      <td>3</td>\n",
       "      <td>1</td>\n",
       "      <td>162</td>\n",
       "      <td>3</td>\n",
       "      <td>medium</td>\n",
       "      <td>F</td>\n",
       "      <td>12</td>\n",
       "      <td>1417</td>\n",
       "      <td>1</td>\n",
       "    </tr>\n",
       "    <tr>\n",
       "      <th>6</th>\n",
       "      <td>7</td>\n",
       "      <td>D</td>\n",
       "      <td>Flight</td>\n",
       "      <td>3</td>\n",
       "      <td>4</td>\n",
       "      <td>250</td>\n",
       "      <td>3</td>\n",
       "      <td>low</td>\n",
       "      <td>F</td>\n",
       "      <td>3</td>\n",
       "      <td>2371</td>\n",
       "      <td>1</td>\n",
       "    </tr>\n",
       "    <tr>\n",
       "      <th>7</th>\n",
       "      <td>8</td>\n",
       "      <td>F</td>\n",
       "      <td>Flight</td>\n",
       "      <td>4</td>\n",
       "      <td>1</td>\n",
       "      <td>233</td>\n",
       "      <td>2</td>\n",
       "      <td>low</td>\n",
       "      <td>F</td>\n",
       "      <td>48</td>\n",
       "      <td>2804</td>\n",
       "      <td>1</td>\n",
       "    </tr>\n",
       "    <tr>\n",
       "      <th>8</th>\n",
       "      <td>9</td>\n",
       "      <td>A</td>\n",
       "      <td>Flight</td>\n",
       "      <td>3</td>\n",
       "      <td>4</td>\n",
       "      <td>150</td>\n",
       "      <td>3</td>\n",
       "      <td>low</td>\n",
       "      <td>F</td>\n",
       "      <td>11</td>\n",
       "      <td>1861</td>\n",
       "      <td>1</td>\n",
       "    </tr>\n",
       "    <tr>\n",
       "      <th>9</th>\n",
       "      <td>10</td>\n",
       "      <td>B</td>\n",
       "      <td>Flight</td>\n",
       "      <td>3</td>\n",
       "      <td>2</td>\n",
       "      <td>164</td>\n",
       "      <td>3</td>\n",
       "      <td>medium</td>\n",
       "      <td>F</td>\n",
       "      <td>29</td>\n",
       "      <td>1187</td>\n",
       "      <td>1</td>\n",
       "    </tr>\n",
       "  </tbody>\n",
       "</table>\n",
       "</div>"
      ],
      "text/plain": [
       "   ID Warehouse_block Mode_of_Shipment  Customer_care_calls  Customer_rating  \\\n",
       "0   1               D           Flight                    4                2   \n",
       "1   2               F           Flight                    4                5   \n",
       "2   3               A           Flight                    2                2   \n",
       "3   4               B           Flight                    3                3   \n",
       "4   5               C           Flight                    2                2   \n",
       "5   6               F           Flight                    3                1   \n",
       "6   7               D           Flight                    3                4   \n",
       "7   8               F           Flight                    4                1   \n",
       "8   9               A           Flight                    3                4   \n",
       "9  10               B           Flight                    3                2   \n",
       "\n",
       "   Cost_of_the_Product  Prior_purchases Product_importance Gender  \\\n",
       "0                  177                3                low      F   \n",
       "1                  216                2                low      M   \n",
       "2                  183                4                low      M   \n",
       "3                  176                4             medium      M   \n",
       "4                  184                3             medium      F   \n",
       "5                  162                3             medium      F   \n",
       "6                  250                3                low      F   \n",
       "7                  233                2                low      F   \n",
       "8                  150                3                low      F   \n",
       "9                  164                3             medium      F   \n",
       "\n",
       "   Discount_offered  Weight_in_gms  Reached.on.Time_Y.N  \n",
       "0                44           1233                    1  \n",
       "1                59           3088                    1  \n",
       "2                48           3374                    1  \n",
       "3                10           1177                    1  \n",
       "4                46           2484                    1  \n",
       "5                12           1417                    1  \n",
       "6                 3           2371                    1  \n",
       "7                48           2804                    1  \n",
       "8                11           1861                    1  \n",
       "9                29           1187                    1  "
      ]
     },
     "execution_count": 52,
     "metadata": {},
     "output_type": "execute_result"
    }
   ],
   "source": [
    "# import Panda Library to read CSV file\n",
    "import pandas as pd \n",
    "import scipy\n",
    "import numpy as np\n",
    "import seaborn as sns\n",
    "import matplotlib.pyplot as plt\n",
    "from statistics import mean, median, mode, stdev, variance\n",
    "\n",
    "\n",
    "# define variable data to represent the whole data set\n",
    "data = pd.read_csv('shipment.csv')\n",
    "\n",
    "#Display number of row and column of data set\n",
    "data.shape\n",
    "\n",
    "# Display the last 10 values of the data set \n",
    "#data.tail(10)\n",
    "data.head(10)\n",
    "#data.describe()\n"
   ]
  },
  {
   "cell_type": "code",
   "execution_count": 59,
   "id": "039dbd3c",
   "metadata": {},
   "outputs": [
    {
     "data": {
      "text/plain": [
       "(1777, 12)"
      ]
     },
     "execution_count": 59,
     "metadata": {},
     "output_type": "execute_result"
    }
   ],
   "source": [
    "# Spliting Mode_of_Shipment into difference part. (Flight)\n",
    "flight_mode = data[data.Mode_of_Shipment=='Flight']\n",
    "flight_mode.shape\n",
    "#flight_mode.head(10)\n"
   ]
  },
  {
   "cell_type": "code",
   "execution_count": 72,
   "id": "e9ae17ea",
   "metadata": {},
   "outputs": [
    {
     "data": {
      "text/plain": [
       "(7462, 12)"
      ]
     },
     "execution_count": 72,
     "metadata": {},
     "output_type": "execute_result"
    }
   ],
   "source": [
    "# Spliting Mode_of_Shipment into difference part. (Ship)\n",
    "\n",
    "shiping_mode = data[data.Mode_of_Shipment=='Ship']\n",
    "shiping_mode.tail()\n",
    "shiping_mode.shape"
   ]
  },
  {
   "cell_type": "code",
   "execution_count": 61,
   "id": "99547d31",
   "metadata": {},
   "outputs": [
    {
     "data": {
      "text/plain": [
       "(1760, 12)"
      ]
     },
     "execution_count": 61,
     "metadata": {},
     "output_type": "execute_result"
    }
   ],
   "source": [
    "# Spliting Mode_of_Shipment into difference part. (Road)\n",
    "road_mode = data[data.Mode_of_Shipment=='Road']\n",
    "#road_mode.head(10)\n",
    "road_mode.shape\n"
   ]
  },
  {
   "cell_type": "code",
   "execution_count": 5,
   "id": "12d676a8",
   "metadata": {},
   "outputs": [
    {
     "data": {
      "text/plain": [
       "<AxesSubplot:xlabel='Gender', ylabel='count'>"
      ]
     },
     "execution_count": 5,
     "metadata": {},
     "output_type": "execute_result"
    },
    {
     "data": {
      "image/png": "[encoded data removed]",
      "text/plain": [
       "<Figure size 432x288 with 1 Axes>"
      ]
     },
     "metadata": {
      "needs_background": "light"
     },
     "output_type": "display_data"
    }
   ],
   "source": [
    "#Ploting Gender from the whole data set\n",
    "sns.countplot(x='Gender', data=data)\n"
   ]
  },
  {
   "cell_type": "code",
   "execution_count": 68,
   "id": "4b3012f4",
   "metadata": {},
   "outputs": [
    {
     "data": {
      "text/plain": [
       "(915, 12)"
      ]
     },
     "execution_count": 68,
     "metadata": {},
     "output_type": "execute_result"
    },
    {
     "data": {
      "image/png": "[encoded data removed]",
      "text/plain": [
       "<Figure size 432x288 with 1 Axes>"
      ]
     },
     "metadata": {
      "needs_background": "light"
     },
     "output_type": "display_data"
    }
   ],
   "source": [
    "# Ploting Gender from Flight mode of Shipment\n",
    "sns.countplot(x='Gender', data=flight_mode)\n",
    "flight_mode[flight_mode.Gender==\"M\"].shape\n"
   ]
  },
  {
   "cell_type": "code",
   "execution_count": 77,
   "id": "fd2d3db3",
   "metadata": {},
   "outputs": [
    {
     "data": {
      "text/plain": [
       "(3775, 12)"
      ]
     },
     "execution_count": 77,
     "metadata": {},
     "output_type": "execute_result"
    }
   ],
   "source": [
    "# Ploting Gender from Shiping mode of Shipment\n",
    "\n",
    "#sns.countplot(x='Gender', data=shiping_mode)\n",
    "shiping_mode[shiping_mode.Gender==\"F\"].shape"
   ]
  },
  {
   "cell_type": "code",
   "execution_count": 8,
   "id": "4a48c039",
   "metadata": {},
   "outputs": [
    {
     "data": {
      "text/plain": [
       "210.19683607600692"
      ]
     },
     "execution_count": 8,
     "metadata": {},
     "output_type": "execute_result"
    }
   ],
   "source": [
    "#Find the mean value of Product cost from all Wharehouse A-Z\n",
    "\n",
    "mean(data['Cost_of_the_Product'])\n"
   ]
  },
  {
   "cell_type": "code",
   "execution_count": 87,
   "id": "d234383d",
   "metadata": {},
   "outputs": [
    {
     "data": {
      "text/plain": [
       "(1833, 12)"
      ]
     },
     "execution_count": 87,
     "metadata": {},
     "output_type": "execute_result"
    }
   ],
   "source": [
    "# Define Wharehouse block \"A\" and find the mean value of the product cost in wharehouse A from the whole data set\n",
    "\n",
    "wharehouse_block_A = data[data.Warehouse_block=='A']\n",
    "wharehouse_block_A.shape\n",
    "#mean(wharehouse_block_A['Cost_of_the_Product'])\n"
   ]
  },
  {
   "cell_type": "code",
   "execution_count": 82,
   "id": "e4070feb",
   "metadata": {},
   "outputs": [
    {
     "data": {
      "text/plain": [
       "(908, 12)"
      ]
     },
     "execution_count": 82,
     "metadata": {},
     "output_type": "execute_result"
    }
   ],
   "source": [
    "# Ploting Gender from Road mode of Shipment\n",
    "\n",
    "#sns.countplot(x='Gender', data=road_mode)\n",
    "road_mode[road_mode.Gender=='F'].shape"
   ]
  },
  {
   "cell_type": "code",
   "execution_count": 89,
   "id": "1635f87a",
   "metadata": {},
   "outputs": [
    {
     "data": {
      "text/plain": [
       "210.03703703703704"
      ]
     },
     "execution_count": 89,
     "metadata": {},
     "output_type": "execute_result"
    }
   ],
   "source": [
    "# Define Wharehouse block \"A\" and find the mean value of the product cost in wharehouse A from the flight_mode data set\n",
    "\n",
    "wharehouse_block_A1 = flight_mode[flight_mode.Warehouse_block=='A']\n",
    "#wharehouse_block_A1.shape\n",
    "mean(wharehouse_block_A1['Cost_of_the_Product'])"
   ]
  },
  {
   "cell_type": "code",
   "execution_count": 12,
   "id": "700ec7a0",
   "metadata": {},
   "outputs": [
    {
     "data": {
      "text/plain": [
       "208.81884057971016"
      ]
     },
     "execution_count": 12,
     "metadata": {},
     "output_type": "execute_result"
    }
   ],
   "source": [
    "# Define Wharehouse block \"A\" and find the mean value of the product cost in wharehouse A from the shiping data set\n",
    "\n",
    "wharehouse_block_A2 = shiping_mode[shiping_mode.Warehouse_block=='A']\n",
    "mean(wharehouse_block_A2['Cost_of_the_Product'])"
   ]
  },
  {
   "cell_type": "code",
   "execution_count": 13,
   "id": "1dc77ad9",
   "metadata": {},
   "outputs": [
    {
     "data": {
      "text/plain": [
       "207.2687074829932"
      ]
     },
     "execution_count": 13,
     "metadata": {},
     "output_type": "execute_result"
    }
   ],
   "source": [
    "## Define Wharehouse block \"A\" and find the mean value of the product cost in wharehouse A from the Road data set\n",
    "\n",
    "wharehouse_block_A3 = road_mode[road_mode.Warehouse_block=='A']\n",
    "mean(wharehouse_block_A3['Cost_of_the_Product'])"
   ]
  },
  {
   "cell_type": "code",
   "execution_count": 90,
   "id": "0cd67f81",
   "metadata": {},
   "outputs": [
    {
     "data": {
      "text/plain": [
       "216"
      ]
     },
     "execution_count": 90,
     "metadata": {},
     "output_type": "execute_result"
    }
   ],
   "source": [
    "#Find the median value of the product cost in wharehouse A from the flight_mode data set\n",
    "\n",
    "median(wharehouse_block_A1['Cost_of_the_Product'])"
   ]
  },
  {
   "cell_type": "code",
   "execution_count": 15,
   "id": "049b87d8",
   "metadata": {},
   "outputs": [
    {
     "data": {
      "text/plain": [
       "212.0"
      ]
     },
     "execution_count": 15,
     "metadata": {},
     "output_type": "execute_result"
    }
   ],
   "source": [
    "#Find the median value of the product cost in wharehouse A from the shiping_mode data set\n",
    "\n",
    "median(wharehouse_block_A2['Cost_of_the_Product'])"
   ]
  },
  {
   "cell_type": "code",
   "execution_count": 16,
   "id": "fa041b4a",
   "metadata": {},
   "outputs": [
    {
     "data": {
      "text/plain": [
       "207.5"
      ]
     },
     "execution_count": 16,
     "metadata": {},
     "output_type": "execute_result"
    }
   ],
   "source": [
    "#Find the median value of the product cost in wharehouse A from the road_mode data set\n",
    "\n",
    "median(wharehouse_block_A3['Cost_of_the_Product'])"
   ]
  },
  {
   "cell_type": "code",
   "execution_count": 17,
   "id": "632b6ccc",
   "metadata": {},
   "outputs": [
    {
     "data": {
      "text/plain": [
       "255"
      ]
     },
     "execution_count": 17,
     "metadata": {},
     "output_type": "execute_result"
    }
   ],
   "source": [
    "#Find the mode value of the product cost in wharehouse A from the flight_mode data set\n",
    "mode(wharehouse_block_A1['Cost_of_the_Product'])"
   ]
  },
  {
   "cell_type": "code",
   "execution_count": 18,
   "id": "9a073181",
   "metadata": {},
   "outputs": [
    {
     "data": {
      "text/plain": [
       "271"
      ]
     },
     "execution_count": 18,
     "metadata": {},
     "output_type": "execute_result"
    }
   ],
   "source": [
    "#Find the mode value of the product cost in wharehouse A from the shiping_mode data set\n",
    "\n",
    "mode(wharehouse_block_A2['Cost_of_the_Product'])"
   ]
  },
  {
   "cell_type": "code",
   "execution_count": 19,
   "id": "f0329973",
   "metadata": {},
   "outputs": [
    {
     "data": {
      "text/plain": [
       "204"
      ]
     },
     "execution_count": 19,
     "metadata": {},
     "output_type": "execute_result"
    }
   ],
   "source": [
    "#Find the mode value of the product cost in wharehouse A from the road_mode data set\n",
    "\n",
    "mode(wharehouse_block_A3['Cost_of_the_Product'])"
   ]
  },
  {
   "cell_type": "code",
   "execution_count": 20,
   "id": "c37d3ced",
   "metadata": {},
   "outputs": [
    {
     "data": {
      "text/plain": [
       "2317.002002002002"
      ]
     },
     "execution_count": 20,
     "metadata": {},
     "output_type": "execute_result"
    }
   ],
   "source": [
    "#Find the variance value of the product cost in wharehouse A from the flight_mode data set\n",
    "\n",
    "variance(wharehouse_block_A1['Cost_of_the_Product'])"
   ]
  },
  {
   "cell_type": "code",
   "execution_count": 21,
   "id": "35dcbc86",
   "metadata": {},
   "outputs": [
    {
     "data": {
      "text/plain": [
       "2397.615019444347"
      ]
     },
     "execution_count": 21,
     "metadata": {},
     "output_type": "execute_result"
    }
   ],
   "source": [
    "#Find the variance value of the product cost in wharehouse A from the shiping_mode data set\n",
    "\n",
    "variance(wharehouse_block_A2['Cost_of_the_Product'])"
   ]
  },
  {
   "cell_type": "code",
   "execution_count": 22,
   "id": "e4d76f92",
   "metadata": {},
   "outputs": [
    {
     "data": {
      "text/plain": [
       "2282.57942699264"
      ]
     },
     "execution_count": 22,
     "metadata": {},
     "output_type": "execute_result"
    }
   ],
   "source": [
    "#Find the variance value of the product cost in wharehouse A from the road_mode data set\n",
    "\n",
    "variance(wharehouse_block_A3['Cost_of_the_Product'])"
   ]
  },
  {
   "cell_type": "code",
   "execution_count": 23,
   "id": "a692b807",
   "metadata": {},
   "outputs": [
    {
     "data": {
      "text/plain": [
       "48.13524698183237"
      ]
     },
     "execution_count": 23,
     "metadata": {},
     "output_type": "execute_result"
    }
   ],
   "source": [
    "#Find the standard deviation value of the product cost in wharehouse A from the flight_mode data set\n",
    "\n",
    "stdev(wharehouse_block_A1['Cost_of_the_Product'])"
   ]
  },
  {
   "cell_type": "code",
   "execution_count": 24,
   "id": "288838ee",
   "metadata": {},
   "outputs": [
    {
     "data": {
      "text/plain": [
       "48.965447199472685"
      ]
     },
     "execution_count": 24,
     "metadata": {},
     "output_type": "execute_result"
    }
   ],
   "source": [
    "#Find the standard deviation value of the product cost in wharehouse A from the shiping_mode data set\n",
    "\n",
    "stdev(wharehouse_block_A2['Cost_of_the_Product'])"
   ]
  },
  {
   "cell_type": "code",
   "execution_count": 25,
   "id": "db76a5dc",
   "metadata": {},
   "outputs": [
    {
     "data": {
      "text/plain": [
       "47.77634798718546"
      ]
     },
     "execution_count": 25,
     "metadata": {},
     "output_type": "execute_result"
    }
   ],
   "source": [
    "#Find the standard deviation value of the product cost in wharehouse A from the road_mode data set\n",
    "stdev(wharehouse_block_A3['Cost_of_the_Product'])"
   ]
  },
  {
   "cell_type": "code",
   "execution_count": 26,
   "id": "1a3b1e0d",
   "metadata": {},
   "outputs": [
    {
     "data": {
      "image/png": "[encoded data removed]",
      "text/plain": [
       "<Figure size 1008x432 with 1 Axes>"
      ]
     },
     "metadata": {
      "needs_background": "light"
     },
     "output_type": "display_data"
    }
   ],
   "source": [
    "#Show the distribution of the Cost_of_the_Product in histogram\n",
    "\n",
    "plt.figure(figsize=(14,6))\n",
    "plt.hist(data['Cost_of_the_Product'])\n",
    "plt.show()"
   ]
  },
  {
   "cell_type": "code",
   "execution_count": 27,
   "id": "04d34311",
   "metadata": {},
   "outputs": [
    {
     "data": {
      "image/png": "[encoded data removed]",
      "text/plain": [
       "<Figure size 1008x432 with 1 Axes>"
      ]
     },
     "metadata": {
      "needs_background": "light"
     },
     "output_type": "display_data"
    }
   ],
   "source": [
    "plt.figure(figsize=(14,6))\n",
    "plt.hist(flight_mode['Cost_of_the_Product'])\n",
    "plt.show()"
   ]
  },
  {
   "cell_type": "code",
   "execution_count": 28,
   "id": "27939061",
   "metadata": {},
   "outputs": [
    {
     "data": {
      "image/png": "[encoded data removed]",
      "text/plain": [
       "<Figure size 1008x432 with 1 Axes>"
      ]
     },
     "metadata": {
      "needs_background": "light"
     },
     "output_type": "display_data"
    }
   ],
   "source": [
    "plt.figure(figsize=(14,6))\n",
    "plt.hist(shiping_mode['Cost_of_the_Product'])\n",
    "plt.show()"
   ]
  },
  {
   "cell_type": "code",
   "execution_count": 29,
   "id": "81c6377a",
   "metadata": {},
   "outputs": [
    {
     "data": {
      "image/png": "[encoded data removed]",
      "text/plain": [
       "<Figure size 1008x432 with 1 Axes>"
      ]
     },
     "metadata": {
      "needs_background": "light"
     },
     "output_type": "display_data"
    }
   ],
   "source": [
    "plt.figure(figsize=(14,6))\n",
    "plt.hist(road_mode['Cost_of_the_Product'])\n",
    "plt.show()"
   ]
  },
  {
   "cell_type": "code",
   "execution_count": 32,
   "id": "ac99e4b9",
   "metadata": {},
   "outputs": [
    {
     "name": "stdout",
     "output_type": "stream",
     "text": [
      "stat=0.97, p=0.000000000000000000000000000000\n",
      "Not a normal distribution\n"
     ]
    }
   ],
   "source": [
    "from scipy.stats import shapiro\n",
    "data_to_test = data['Cost_of_the_Product']\n",
    "stat,p = shapiro(data_to_test)\n",
    "print('stat=%.2f, p=%.30f' % (stat,p))\n",
    "\n",
    "if p > 0.05:\n",
    "    print('Normal distribution')\n",
    "else:\n",
    "    print('Not a normal distribution')"
   ]
  },
  {
   "cell_type": "code",
   "execution_count": 33,
   "id": "6b1688d2",
   "metadata": {},
   "outputs": [
    {
     "name": "stdout",
     "output_type": "stream",
     "text": [
      "stat=0.97, p=0.000000000000000007409235417650\n",
      "Not a normal distribution\n"
     ]
    }
   ],
   "source": [
    "from scipy.stats import shapiro\n",
    "data_to_test = flight_mode['Cost_of_the_Product']\n",
    "stat,p = shapiro(data_to_test)\n",
    "print('stat=%.2f, p=%.30f' % (stat,p))\n",
    "\n",
    "if p > 0.05:\n",
    "    print('Normal distribution')\n",
    "else:\n",
    "    print('Not a normal distribution')"
   ]
  },
  {
   "cell_type": "code",
   "execution_count": 34,
   "id": "451cb723",
   "metadata": {},
   "outputs": [
    {
     "name": "stdout",
     "output_type": "stream",
     "text": [
      "stat=0.97, p=0.000000000000000000000000000000\n",
      "Not a normal distribution\n"
     ]
    }
   ],
   "source": [
    "from scipy.stats import shapiro\n",
    "data_to_test = shiping_mode['Cost_of_the_Product']\n",
    "stat,p = shapiro(data_to_test)\n",
    "print('stat=%.2f, p=%.30f' % (stat,p))\n",
    "\n",
    "if p > 0.05:\n",
    "    print('Normal distribution')\n",
    "else:\n",
    "    print('Not a normal distribution')"
   ]
  },
  {
   "cell_type": "code",
   "execution_count": 35,
   "id": "c271c655",
   "metadata": {},
   "outputs": [
    {
     "name": "stdout",
     "output_type": "stream",
     "text": [
      "stat=0.97, p=0.000000000000000001365729371655\n",
      "Not a normal distribution\n"
     ]
    }
   ],
   "source": [
    "from scipy.stats import shapiro\n",
    "data_to_test = road_mode['Cost_of_the_Product']\n",
    "stat,p = shapiro(data_to_test)\n",
    "print('stat=%.2f, p=%.30f' % (stat,p))\n",
    "\n",
    "if p > 0.05:\n",
    "    print('Normal distribution')\n",
    "else:\n",
    "    print('Not a normal distribution')"
   ]
  },
  {
   "cell_type": "code",
   "execution_count": 36,
   "id": "e07641d9",
   "metadata": {},
   "outputs": [
    {
     "data": {
      "image/png": "[encoded data removed]",
      "text/plain": [
       "<Figure size 432x288 with 1 Axes>"
      ]
     },
     "metadata": {
      "needs_background": "light"
     },
     "output_type": "display_data"
    }
   ],
   "source": [
    "# Testing correlation by using \"Pearson and Spearman's rank correlation\"\n",
    "first_sample = data['Cost_of_the_Product']\n",
    "second_sample = data['Prior_purchases']\n",
    "# The result show that \"score\" and \"study hour\" are not correlate to one another\n",
    "plt.plot(first_sample,second_sample)\n",
    "plt.show()"
   ]
  },
  {
   "cell_type": "code",
   "execution_count": 37,
   "id": "b8d43b57",
   "metadata": {},
   "outputs": [
    {
     "name": "stdout",
     "output_type": "stream",
     "text": [
      "stat=0.194,p=0.000000\n",
      "Dependent samples\n"
     ]
    }
   ],
   "source": [
    "from scipy.stats import spearmanr\n",
    "stat,p = spearmanr(first_sample,second_sample)\n",
    "print('stat=%.3f,p=%5f' % (stat,p))\n",
    "if p > 0.05:\n",
    "    print('Independent samples')\n",
    "else:\n",
    "    print('Dependent samples')"
   ]
  },
  {
   "cell_type": "code",
   "execution_count": 38,
   "id": "863cdc2f",
   "metadata": {},
   "outputs": [
    {
     "name": "stdout",
     "output_type": "stream",
     "text": [
      "stat=0.124,p=0.000000\n",
      "Dependent samples\n"
     ]
    }
   ],
   "source": [
    "from scipy.stats import pearsonr\n",
    "stat,p = pearsonr(first_sample,second_sample)\n",
    "print('stat=%.3f,p=%5f' % (stat,p))\n",
    "if p > 0.05:\n",
    "    print('Independent samples')\n",
    "else:\n",
    "    print('Dependent samples')"
   ]
  },
  {
   "cell_type": "code",
   "execution_count": 39,
   "id": "fd306bf0",
   "metadata": {},
   "outputs": [
    {
     "data": {
      "text/html": [
       "<div>\n",
       "<style scoped>\n",
       "    .dataframe tbody tr th:only-of-type {\n",
       "        vertical-align: middle;\n",
       "    }\n",
       "\n",
       "    .dataframe tbody tr th {\n",
       "        vertical-align: top;\n",
       "    }\n",
       "\n",
       "    .dataframe thead th {\n",
       "        text-align: right;\n",
       "    }\n",
       "</style>\n",
       "<table border=\"1\" class=\"dataframe\">\n",
       "  <thead>\n",
       "    <tr style=\"text-align: right;\">\n",
       "      <th></th>\n",
       "      <th>ID</th>\n",
       "      <th>Customer_care_calls</th>\n",
       "      <th>Customer_rating</th>\n",
       "      <th>Cost_of_the_Product</th>\n",
       "      <th>Prior_purchases</th>\n",
       "      <th>Discount_offered</th>\n",
       "      <th>Weight_in_gms</th>\n",
       "      <th>Reached.on.Time_Y.N</th>\n",
       "    </tr>\n",
       "  </thead>\n",
       "  <tbody>\n",
       "    <tr>\n",
       "      <th>ID</th>\n",
       "      <td>1.000000</td>\n",
       "      <td>0.188998</td>\n",
       "      <td>-0.005722</td>\n",
       "      <td>0.196791</td>\n",
       "      <td>0.145369</td>\n",
       "      <td>-0.598278</td>\n",
       "      <td>0.278312</td>\n",
       "      <td>-0.411822</td>\n",
       "    </tr>\n",
       "    <tr>\n",
       "      <th>Customer_care_calls</th>\n",
       "      <td>0.188998</td>\n",
       "      <td>1.000000</td>\n",
       "      <td>0.012209</td>\n",
       "      <td>0.323182</td>\n",
       "      <td>0.180771</td>\n",
       "      <td>-0.130750</td>\n",
       "      <td>-0.276615</td>\n",
       "      <td>-0.067126</td>\n",
       "    </tr>\n",
       "    <tr>\n",
       "      <th>Customer_rating</th>\n",
       "      <td>-0.005722</td>\n",
       "      <td>0.012209</td>\n",
       "      <td>1.000000</td>\n",
       "      <td>0.009270</td>\n",
       "      <td>0.013179</td>\n",
       "      <td>-0.003124</td>\n",
       "      <td>-0.001897</td>\n",
       "      <td>0.013119</td>\n",
       "    </tr>\n",
       "    <tr>\n",
       "      <th>Cost_of_the_Product</th>\n",
       "      <td>0.196791</td>\n",
       "      <td>0.323182</td>\n",
       "      <td>0.009270</td>\n",
       "      <td>1.000000</td>\n",
       "      <td>0.123676</td>\n",
       "      <td>-0.138312</td>\n",
       "      <td>-0.132604</td>\n",
       "      <td>-0.073587</td>\n",
       "    </tr>\n",
       "    <tr>\n",
       "      <th>Prior_purchases</th>\n",
       "      <td>0.145369</td>\n",
       "      <td>0.180771</td>\n",
       "      <td>0.013179</td>\n",
       "      <td>0.123676</td>\n",
       "      <td>1.000000</td>\n",
       "      <td>-0.082769</td>\n",
       "      <td>-0.168213</td>\n",
       "      <td>-0.055515</td>\n",
       "    </tr>\n",
       "    <tr>\n",
       "      <th>Discount_offered</th>\n",
       "      <td>-0.598278</td>\n",
       "      <td>-0.130750</td>\n",
       "      <td>-0.003124</td>\n",
       "      <td>-0.138312</td>\n",
       "      <td>-0.082769</td>\n",
       "      <td>1.000000</td>\n",
       "      <td>-0.376067</td>\n",
       "      <td>0.397108</td>\n",
       "    </tr>\n",
       "    <tr>\n",
       "      <th>Weight_in_gms</th>\n",
       "      <td>0.278312</td>\n",
       "      <td>-0.276615</td>\n",
       "      <td>-0.001897</td>\n",
       "      <td>-0.132604</td>\n",
       "      <td>-0.168213</td>\n",
       "      <td>-0.376067</td>\n",
       "      <td>1.000000</td>\n",
       "      <td>-0.268793</td>\n",
       "    </tr>\n",
       "    <tr>\n",
       "      <th>Reached.on.Time_Y.N</th>\n",
       "      <td>-0.411822</td>\n",
       "      <td>-0.067126</td>\n",
       "      <td>0.013119</td>\n",
       "      <td>-0.073587</td>\n",
       "      <td>-0.055515</td>\n",
       "      <td>0.397108</td>\n",
       "      <td>-0.268793</td>\n",
       "      <td>1.000000</td>\n",
       "    </tr>\n",
       "  </tbody>\n",
       "</table>\n",
       "</div>"
      ],
      "text/plain": [
       "                           ID  Customer_care_calls  Customer_rating  \\\n",
       "ID                   1.000000             0.188998        -0.005722   \n",
       "Customer_care_calls  0.188998             1.000000         0.012209   \n",
       "Customer_rating     -0.005722             0.012209         1.000000   \n",
       "Cost_of_the_Product  0.196791             0.323182         0.009270   \n",
       "Prior_purchases      0.145369             0.180771         0.013179   \n",
       "Discount_offered    -0.598278            -0.130750        -0.003124   \n",
       "Weight_in_gms        0.278312            -0.276615        -0.001897   \n",
       "Reached.on.Time_Y.N -0.411822            -0.067126         0.013119   \n",
       "\n",
       "                     Cost_of_the_Product  Prior_purchases  Discount_offered  \\\n",
       "ID                              0.196791         0.145369         -0.598278   \n",
       "Customer_care_calls             0.323182         0.180771         -0.130750   \n",
       "Customer_rating                 0.009270         0.013179         -0.003124   \n",
       "Cost_of_the_Product             1.000000         0.123676         -0.138312   \n",
       "Prior_purchases                 0.123676         1.000000         -0.082769   \n",
       "Discount_offered               -0.138312        -0.082769          1.000000   \n",
       "Weight_in_gms                  -0.132604        -0.168213         -0.376067   \n",
       "Reached.on.Time_Y.N            -0.073587        -0.055515          0.397108   \n",
       "\n",
       "                     Weight_in_gms  Reached.on.Time_Y.N  \n",
       "ID                        0.278312            -0.411822  \n",
       "Customer_care_calls      -0.276615            -0.067126  \n",
       "Customer_rating          -0.001897             0.013119  \n",
       "Cost_of_the_Product      -0.132604            -0.073587  \n",
       "Prior_purchases          -0.168213            -0.055515  \n",
       "Discount_offered         -0.376067             0.397108  \n",
       "Weight_in_gms             1.000000            -0.268793  \n",
       "Reached.on.Time_Y.N      -0.268793             1.000000  "
      ]
     },
     "execution_count": 39,
     "metadata": {},
     "output_type": "execute_result"
    }
   ],
   "source": [
    "data.corr(method='pearson')"
   ]
  },
  {
   "cell_type": "code",
   "execution_count": 40,
   "id": "212a1cda",
   "metadata": {},
   "outputs": [
    {
     "data": {
      "image/png": "[encoded data removed]",
      "text/plain": [
       "<Figure size 432x288 with 1 Axes>"
      ]
     },
     "metadata": {
      "needs_background": "light"
     },
     "output_type": "display_data"
    }
   ],
   "source": [
    "first_sample = data['Cost_of_the_Product']\n",
    "second_sample = data['Customer_rating']\n",
    "#pearson show that \"score\" and \"read_book\" are correlated to one another, you can see the chart\n",
    "plt.plot(first_sample,second_sample)\n",
    "plt.show()"
   ]
  },
  {
   "cell_type": "code",
   "execution_count": 41,
   "id": "315cfc14",
   "metadata": {},
   "outputs": [
    {
     "name": "stdout",
     "output_type": "stream",
     "text": [
      "stat=0.009,p=0.331020\n",
      "Independent samples\n"
     ]
    }
   ],
   "source": [
    "from scipy.stats import pearsonr\n",
    "stat,p = pearsonr(first_sample,second_sample)\n",
    "print('stat=%.3f,p=%5f' % (stat,p))\n",
    "if p > 0.05:\n",
    "    print('Independent samples')\n",
    "else:\n",
    "    print('Dependent samples')"
   ]
  },
  {
   "cell_type": "code",
   "execution_count": 42,
   "id": "2c67a4e5",
   "metadata": {},
   "outputs": [
    {
     "name": "stdout",
     "output_type": "stream",
     "text": [
      "All Shipment mean score 210.19683607600692\n",
      "flight_mode mean score 209.3066966797974\n",
      "flight_mode mean score 210.34307156258376\n",
      "flight_mode mean score 210.47556818181818\n"
     ]
    }
   ],
   "source": [
    "#T-TEST\n",
    "print('All Shipment mean score',np.mean(data['Cost_of_the_Product']))\n",
    "print('flight_mode mean score',np.mean(flight_mode['Cost_of_the_Product']))\n",
    "print('flight_mode mean score',np.mean(shiping_mode['Cost_of_the_Product']))\n",
    "print('flight_mode mean score',np.mean(road_mode['Cost_of_the_Product']))\n"
   ]
  },
  {
   "cell_type": "code",
   "execution_count": 43,
   "id": "198ef829",
   "metadata": {},
   "outputs": [
    {
     "data": {
      "text/plain": [
       "Ttest_1sampResult(statistic=458.65849854077896, pvalue=0.0)"
      ]
     },
     "execution_count": 43,
     "metadata": {},
     "output_type": "execute_result"
    }
   ],
   "source": [
    "scipy.stats.ttest_1samp(data['Cost_of_the_Product'],0)"
   ]
  },
  {
   "cell_type": "code",
   "execution_count": 44,
   "id": "dede6ada",
   "metadata": {},
   "outputs": [
    {
     "data": {
      "text/plain": [
       "Ttest_1sampResult(statistic=393.19721371321924, pvalue=0.0)"
      ]
     },
     "execution_count": 44,
     "metadata": {},
     "output_type": "execute_result"
    }
   ],
   "source": [
    "scipy.stats.ttest_1samp(data['Cost_of_the_Product'],30)"
   ]
  },
  {
   "cell_type": "code",
   "execution_count": 45,
   "id": "b20435e6",
   "metadata": {},
   "outputs": [
    {
     "data": {
      "text/plain": [
       "Ttest_1sampResult(statistic=327.7359288856595, pvalue=0.0)"
      ]
     },
     "execution_count": 45,
     "metadata": {},
     "output_type": "execute_result"
    }
   ],
   "source": [
    "scipy.stats.ttest_1samp(data['Cost_of_the_Product'],60)"
   ]
  },
  {
   "cell_type": "code",
   "execution_count": 46,
   "id": "c9f65c6f",
   "metadata": {},
   "outputs": [
    {
     "data": {
      "text/plain": [
       "Ttest_1sampResult(statistic=240.45421578224656, pvalue=0.0)"
      ]
     },
     "execution_count": 46,
     "metadata": {},
     "output_type": "execute_result"
    }
   ],
   "source": [
    "scipy.stats.ttest_1samp(data['Cost_of_the_Product'],100)"
   ]
  },
  {
   "cell_type": "code",
   "execution_count": 47,
   "id": "93b2e550",
   "metadata": {},
   "outputs": [
    {
     "data": {
      "text/plain": [
       "Ttest_indResult(statistic=-0.8153462129906182, pvalue=0.4148951855225328)"
      ]
     },
     "execution_count": 47,
     "metadata": {},
     "output_type": "execute_result"
    }
   ],
   "source": [
    "scipy.stats.ttest_ind(flight_mode['Cost_of_the_Product'],shiping_mode['Cost_of_the_Product'])\n"
   ]
  },
  {
   "cell_type": "code",
   "execution_count": 48,
   "id": "7c913922",
   "metadata": {},
   "outputs": [
    {
     "data": {
      "text/html": [
       "<div>\n",
       "<style scoped>\n",
       "    .dataframe tbody tr th:only-of-type {\n",
       "        vertical-align: middle;\n",
       "    }\n",
       "\n",
       "    .dataframe tbody tr th {\n",
       "        vertical-align: top;\n",
       "    }\n",
       "\n",
       "    .dataframe thead th {\n",
       "        text-align: right;\n",
       "    }\n",
       "</style>\n",
       "<table border=\"1\" class=\"dataframe\">\n",
       "  <thead>\n",
       "    <tr style=\"text-align: right;\">\n",
       "      <th>Cost_of_the_Product</th>\n",
       "      <th>96</th>\n",
       "      <th>97</th>\n",
       "      <th>98</th>\n",
       "      <th>99</th>\n",
       "      <th>101</th>\n",
       "      <th>102</th>\n",
       "      <th>103</th>\n",
       "      <th>104</th>\n",
       "      <th>105</th>\n",
       "      <th>106</th>\n",
       "      <th>...</th>\n",
       "      <th>299</th>\n",
       "      <th>301</th>\n",
       "      <th>302</th>\n",
       "      <th>303</th>\n",
       "      <th>305</th>\n",
       "      <th>306</th>\n",
       "      <th>307</th>\n",
       "      <th>308</th>\n",
       "      <th>309</th>\n",
       "      <th>310</th>\n",
       "    </tr>\n",
       "    <tr>\n",
       "      <th>Gender</th>\n",
       "      <th></th>\n",
       "      <th></th>\n",
       "      <th></th>\n",
       "      <th></th>\n",
       "      <th></th>\n",
       "      <th></th>\n",
       "      <th></th>\n",
       "      <th></th>\n",
       "      <th></th>\n",
       "      <th></th>\n",
       "      <th></th>\n",
       "      <th></th>\n",
       "      <th></th>\n",
       "      <th></th>\n",
       "      <th></th>\n",
       "      <th></th>\n",
       "      <th></th>\n",
       "      <th></th>\n",
       "      <th></th>\n",
       "      <th></th>\n",
       "      <th></th>\n",
       "    </tr>\n",
       "  </thead>\n",
       "  <tbody>\n",
       "    <tr>\n",
       "      <th>F</th>\n",
       "      <td>1</td>\n",
       "      <td>1</td>\n",
       "      <td>2</td>\n",
       "      <td>1</td>\n",
       "      <td>0</td>\n",
       "      <td>1</td>\n",
       "      <td>1</td>\n",
       "      <td>3</td>\n",
       "      <td>1</td>\n",
       "      <td>1</td>\n",
       "      <td>...</td>\n",
       "      <td>0</td>\n",
       "      <td>1</td>\n",
       "      <td>2</td>\n",
       "      <td>1</td>\n",
       "      <td>2</td>\n",
       "      <td>2</td>\n",
       "      <td>0</td>\n",
       "      <td>1</td>\n",
       "      <td>1</td>\n",
       "      <td>2</td>\n",
       "    </tr>\n",
       "    <tr>\n",
       "      <th>M</th>\n",
       "      <td>1</td>\n",
       "      <td>1</td>\n",
       "      <td>2</td>\n",
       "      <td>0</td>\n",
       "      <td>1</td>\n",
       "      <td>3</td>\n",
       "      <td>0</td>\n",
       "      <td>1</td>\n",
       "      <td>2</td>\n",
       "      <td>1</td>\n",
       "      <td>...</td>\n",
       "      <td>2</td>\n",
       "      <td>0</td>\n",
       "      <td>2</td>\n",
       "      <td>1</td>\n",
       "      <td>1</td>\n",
       "      <td>1</td>\n",
       "      <td>3</td>\n",
       "      <td>3</td>\n",
       "      <td>0</td>\n",
       "      <td>1</td>\n",
       "    </tr>\n",
       "  </tbody>\n",
       "</table>\n",
       "<p>2 rows × 209 columns</p>\n",
       "</div>"
      ],
      "text/plain": [
       "Cost_of_the_Product  96   97   98   99   101  102  103  104  105  106  ...  \\\n",
       "Gender                                                                 ...   \n",
       "F                      1    1    2    1    0    1    1    3    1    1  ...   \n",
       "M                      1    1    2    0    1    3    0    1    2    1  ...   \n",
       "\n",
       "Cost_of_the_Product  299  301  302  303  305  306  307  308  309  310  \n",
       "Gender                                                                 \n",
       "F                      0    1    2    1    2    2    0    1    1    2  \n",
       "M                      2    0    2    1    1    1    3    3    0    1  \n",
       "\n",
       "[2 rows x 209 columns]"
      ]
     },
     "execution_count": 48,
     "metadata": {},
     "output_type": "execute_result"
    }
   ],
   "source": [
    "data_contingency = pd.crosstab(flight_mode['Gender'],flight_mode['Cost_of_the_Product'],margins=False)\n",
    "data_contingency"
   ]
  },
  {
   "cell_type": "code",
   "execution_count": 49,
   "id": "aa10eb92",
   "metadata": {},
   "outputs": [
    {
     "name": "stdout",
     "output_type": "stream",
     "text": [
      "stat=191.021,p=0.795\n",
      "Independent category\n"
     ]
    }
   ],
   "source": [
    "from scipy.stats import chi2_contingency \n",
    "stat,p,dof,expected = chi2_contingency(data_contingency)\n",
    "print('stat=%.3f,p=%.3f'%(stat,p))\n",
    "if p > 0.05:\n",
    "    print('Independent category')\n",
    "else:\n",
    "    print('Dependent category')"
   ]
  },
  {
   "cell_type": "code",
   "execution_count": 50,
   "id": "6b1cfb87",
   "metadata": {},
   "outputs": [
    {
     "name": "stdout",
     "output_type": "stream",
     "text": [
      "stat=337.622,p=0.000\n",
      "Dependent value\n"
     ]
    }
   ],
   "source": [
    "#Chi-square test for numerical variable\n",
    "data_contingency=[[25,125],[1200,240]]\n",
    "stat,p,dof,expected = chi2_contingency(data_contingency)\n",
    "print('stat=%.3f,p=%.3f'%(stat,p))\n",
    "if p > 0.05:\n",
    "    print('Independent value')\n",
    "else:\n",
    "    print('Dependent value')"
   ]
  },
  {
   "cell_type": "code",
   "execution_count": null,
   "id": "26d2b79a",
   "metadata": {},
   "outputs": [],
   "source": []
  }
 ],
 "metadata": {
  "kernelspec": {
   "display_name": "Python 3 (ipykernel)",
   "language": "python",
   "name": "python3"
  },
  "language_info": {
   "codemirror_mode": {
    "name": "ipython",
    "version": 3
   },
   "file_extension": ".py",
   "mimetype": "text/x-python",
   "name": "python",
   "nbconvert_exporter": "python",
   "pygments_lexer": "ipython3",
   "version": "3.10.6"
  }
 },
 "nbformat": 4,
 "nbformat_minor": 5
}
