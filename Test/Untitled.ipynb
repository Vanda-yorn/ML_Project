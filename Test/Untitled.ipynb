{
 "cells": [
  {
   "cell_type": "code",
   "execution_count": 1,
   "id": "f1ef4a03",
   "metadata": {},
   "outputs": [],
   "source": [
    "import cv2\n",
    "\n",
    "# Read the static image\n",
    "img = cv2.imread('fruit3.jpg')\n",
    "\n",
    "# Initialize the camera\n",
    "cap = cv2.VideoCapture(0)\n",
    "\n",
    "while True:\n",
    "    # Read the frame from the camera\n",
    "    ret, frame = cap.read()\n",
    "\n",
    "    # Define the region of interest\n",
    "    roi = frame[0:img.shape[0], 0:img.shape[1]]\n",
    "\n",
    "    # Convert the image\n",
    "    img_gray = cv2.cvtColor(img, cv2.COLOR_BGR2GRAY)\n",
    "    ret, mask = cv2.threshold(img_gray, 10, 255, cv2.THRESH_BINARY)\n",
    "    mask_inv = cv2.bitwise_not(mask)\n",
    "    img_fg = cv2.bitwise_and(img, img, mask=mask)\n",
    "\n",
    "    # Add the image to the video\n",
    "    img_bg = cv2.bitwise_and(roi, roi, mask=mask_inv)\n",
    "    dst = cv2.addWeighted(img_bg, 1, img_fg, 1, 0)\n",
    "    frame[0:img.shape[0], 0:img.shape[1]] = dst\n",
    "\n",
    "    # Display the video\n",
    "    cv2.imshow('frame', frame)\n",
    "    if cv2.waitKey(1) & 0xFF == ord('q'):\n",
    "        break\n",
    "\n",
    "# Release the camera and close all windows\n",
    "cap.release()\n",
    "cv2.destroyAllWindows()\n"
   ]
  },
  {
   "cell_type": "code",
   "execution_count": null,
   "id": "01e2d41d",
   "metadata": {},
   "outputs": [],
   "source": []
  }
 ],
 "metadata": {
  "kernelspec": {
   "display_name": "Python 3 (ipykernel)",
   "language": "python",
   "name": "python3"
  },
  "language_info": {
   "codemirror_mode": {
    "name": "ipython",
    "version": 3
   },
   "file_extension": ".py",
   "mimetype": "text/x-python",
   "name": "python",
   "nbconvert_exporter": "python",
   "pygments_lexer": "ipython3",
   "version": "3.10.6"
  }
 },
 "nbformat": 4,
 "nbformat_minor": 5
}
